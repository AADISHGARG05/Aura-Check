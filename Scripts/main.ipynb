{
 "cells": [
  {
   "cell_type": "code",
   "execution_count": 145,
   "metadata": {},
   "outputs": [],
   "source": [
    "import pandas as pd\n",
    "import numpy as np\n",
    "import matplotlib.pyplot as plt\n",
    "import seaborn as sns"
   ]
  },
  {
   "cell_type": "code",
   "execution_count": 146,
   "metadata": {},
   "outputs": [
    {
     "data": {
      "text/html": [
       "<div>\n",
       "<style scoped>\n",
       "    .dataframe tbody tr th:only-of-type {\n",
       "        vertical-align: middle;\n",
       "    }\n",
       "\n",
       "    .dataframe tbody tr th {\n",
       "        vertical-align: top;\n",
       "    }\n",
       "\n",
       "    .dataframe thead th {\n",
       "        text-align: right;\n",
       "    }\n",
       "</style>\n",
       "<table border=\"1\" class=\"dataframe\">\n",
       "  <thead>\n",
       "    <tr style=\"text-align: right;\">\n",
       "      <th></th>\n",
       "      <th>Q1A</th>\n",
       "      <th>Q1I</th>\n",
       "      <th>Q1E</th>\n",
       "      <th>Q2A</th>\n",
       "      <th>Q2I</th>\n",
       "      <th>Q2E</th>\n",
       "      <th>Q3A</th>\n",
       "      <th>Q3I</th>\n",
       "      <th>Q3E</th>\n",
       "      <th>Q4A</th>\n",
       "      <th>...</th>\n",
       "      <th>screensize</th>\n",
       "      <th>uniquenetworklocation</th>\n",
       "      <th>hand</th>\n",
       "      <th>religion</th>\n",
       "      <th>orientation</th>\n",
       "      <th>race</th>\n",
       "      <th>voted</th>\n",
       "      <th>married</th>\n",
       "      <th>familysize</th>\n",
       "      <th>major</th>\n",
       "    </tr>\n",
       "  </thead>\n",
       "  <tbody>\n",
       "    <tr>\n",
       "      <th>0</th>\n",
       "      <td>4</td>\n",
       "      <td>28</td>\n",
       "      <td>3890</td>\n",
       "      <td>4</td>\n",
       "      <td>25</td>\n",
       "      <td>2122</td>\n",
       "      <td>2</td>\n",
       "      <td>16</td>\n",
       "      <td>1944</td>\n",
       "      <td>4</td>\n",
       "      <td>...</td>\n",
       "      <td>1</td>\n",
       "      <td>1</td>\n",
       "      <td>1</td>\n",
       "      <td>12</td>\n",
       "      <td>1</td>\n",
       "      <td>10</td>\n",
       "      <td>2</td>\n",
       "      <td>1</td>\n",
       "      <td>2</td>\n",
       "      <td>NaN</td>\n",
       "    </tr>\n",
       "    <tr>\n",
       "      <th>1</th>\n",
       "      <td>4</td>\n",
       "      <td>2</td>\n",
       "      <td>8118</td>\n",
       "      <td>1</td>\n",
       "      <td>36</td>\n",
       "      <td>2890</td>\n",
       "      <td>2</td>\n",
       "      <td>35</td>\n",
       "      <td>4777</td>\n",
       "      <td>3</td>\n",
       "      <td>...</td>\n",
       "      <td>2</td>\n",
       "      <td>1</td>\n",
       "      <td>2</td>\n",
       "      <td>7</td>\n",
       "      <td>0</td>\n",
       "      <td>70</td>\n",
       "      <td>2</td>\n",
       "      <td>1</td>\n",
       "      <td>4</td>\n",
       "      <td>NaN</td>\n",
       "    </tr>\n",
       "    <tr>\n",
       "      <th>2</th>\n",
       "      <td>3</td>\n",
       "      <td>7</td>\n",
       "      <td>5784</td>\n",
       "      <td>1</td>\n",
       "      <td>33</td>\n",
       "      <td>4373</td>\n",
       "      <td>4</td>\n",
       "      <td>41</td>\n",
       "      <td>3242</td>\n",
       "      <td>1</td>\n",
       "      <td>...</td>\n",
       "      <td>2</td>\n",
       "      <td>1</td>\n",
       "      <td>1</td>\n",
       "      <td>4</td>\n",
       "      <td>3</td>\n",
       "      <td>60</td>\n",
       "      <td>1</td>\n",
       "      <td>1</td>\n",
       "      <td>3</td>\n",
       "      <td>NaN</td>\n",
       "    </tr>\n",
       "    <tr>\n",
       "      <th>3</th>\n",
       "      <td>2</td>\n",
       "      <td>23</td>\n",
       "      <td>5081</td>\n",
       "      <td>3</td>\n",
       "      <td>11</td>\n",
       "      <td>6837</td>\n",
       "      <td>2</td>\n",
       "      <td>37</td>\n",
       "      <td>5521</td>\n",
       "      <td>1</td>\n",
       "      <td>...</td>\n",
       "      <td>2</td>\n",
       "      <td>1</td>\n",
       "      <td>2</td>\n",
       "      <td>4</td>\n",
       "      <td>5</td>\n",
       "      <td>70</td>\n",
       "      <td>2</td>\n",
       "      <td>1</td>\n",
       "      <td>5</td>\n",
       "      <td>biology</td>\n",
       "    </tr>\n",
       "    <tr>\n",
       "      <th>4</th>\n",
       "      <td>2</td>\n",
       "      <td>36</td>\n",
       "      <td>3215</td>\n",
       "      <td>2</td>\n",
       "      <td>13</td>\n",
       "      <td>7731</td>\n",
       "      <td>3</td>\n",
       "      <td>5</td>\n",
       "      <td>4156</td>\n",
       "      <td>4</td>\n",
       "      <td>...</td>\n",
       "      <td>2</td>\n",
       "      <td>2</td>\n",
       "      <td>3</td>\n",
       "      <td>10</td>\n",
       "      <td>1</td>\n",
       "      <td>10</td>\n",
       "      <td>2</td>\n",
       "      <td>1</td>\n",
       "      <td>4</td>\n",
       "      <td>Psychology</td>\n",
       "    </tr>\n",
       "  </tbody>\n",
       "</table>\n",
       "<p>5 rows × 172 columns</p>\n",
       "</div>"
      ],
      "text/plain": [
       "   Q1A  Q1I   Q1E  Q2A  Q2I   Q2E  Q3A  Q3I   Q3E  Q4A  ...  screensize  \\\n",
       "0    4   28  3890    4   25  2122    2   16  1944    4  ...           1   \n",
       "1    4    2  8118    1   36  2890    2   35  4777    3  ...           2   \n",
       "2    3    7  5784    1   33  4373    4   41  3242    1  ...           2   \n",
       "3    2   23  5081    3   11  6837    2   37  5521    1  ...           2   \n",
       "4    2   36  3215    2   13  7731    3    5  4156    4  ...           2   \n",
       "\n",
       "   uniquenetworklocation  hand  religion  orientation  race  voted  married  \\\n",
       "0                      1     1        12            1    10      2        1   \n",
       "1                      1     2         7            0    70      2        1   \n",
       "2                      1     1         4            3    60      1        1   \n",
       "3                      1     2         4            5    70      2        1   \n",
       "4                      2     3        10            1    10      2        1   \n",
       "\n",
       "   familysize       major  \n",
       "0           2         NaN  \n",
       "1           4         NaN  \n",
       "2           3         NaN  \n",
       "3           5     biology  \n",
       "4           4  Psychology  \n",
       "\n",
       "[5 rows x 172 columns]"
      ]
     },
     "execution_count": 146,
     "metadata": {},
     "output_type": "execute_result"
    }
   ],
   "source": [
    "data = pd.read_csv(\"/Users/aryanmanchanda/Projects/aura-check/Data/DASS Responses/data.csv\", delimiter=\"\\t\")\n",
    "data.head()"
   ]
  },
  {
   "cell_type": "code",
   "execution_count": 147,
   "metadata": {},
   "outputs": [],
   "source": [
    "questions = []\n",
    "for i in data.columns:\n",
    "    if i.startswith(\"Q\") and i.endswith(\"A\"):\n",
    "        questions.append(i)"
   ]
  },
  {
   "cell_type": "code",
   "execution_count": 148,
   "metadata": {},
   "outputs": [
    {
     "data": {
      "text/plain": [
       "['Q1A',\n",
       " 'Q2A',\n",
       " 'Q3A',\n",
       " 'Q4A',\n",
       " 'Q5A',\n",
       " 'Q6A',\n",
       " 'Q7A',\n",
       " 'Q8A',\n",
       " 'Q9A',\n",
       " 'Q10A',\n",
       " 'Q11A',\n",
       " 'Q12A',\n",
       " 'Q13A',\n",
       " 'Q14A',\n",
       " 'Q15A',\n",
       " 'Q16A',\n",
       " 'Q17A',\n",
       " 'Q18A',\n",
       " 'Q19A',\n",
       " 'Q20A',\n",
       " 'Q21A',\n",
       " 'Q22A',\n",
       " 'Q23A',\n",
       " 'Q24A',\n",
       " 'Q25A',\n",
       " 'Q26A',\n",
       " 'Q27A',\n",
       " 'Q28A',\n",
       " 'Q29A',\n",
       " 'Q30A',\n",
       " 'Q31A',\n",
       " 'Q32A',\n",
       " 'Q33A',\n",
       " 'Q34A',\n",
       " 'Q35A',\n",
       " 'Q36A',\n",
       " 'Q37A',\n",
       " 'Q38A',\n",
       " 'Q39A',\n",
       " 'Q40A',\n",
       " 'Q41A',\n",
       " 'Q42A']"
      ]
     },
     "execution_count": 148,
     "metadata": {},
     "output_type": "execute_result"
    }
   ],
   "source": [
    "questions"
   ]
  },
  {
   "cell_type": "code",
   "execution_count": 149,
   "metadata": {},
   "outputs": [],
   "source": [
    "depression_questions = [\"Q3A\", \"Q5A\", \"Q10A\", \"Q13A\", \"Q16A\", \"Q17A\", \"Q21A\", \"Q24A\", \"Q26A\", \"Q31A\", \"Q34A\",\"Q37A\", \"Q38A\", \"Q42A\"]\n",
    "anxiety_questions = [\"Q2A\", \"Q4A\", \"Q7A\", \"Q9A\", \"Q15A\", \"Q19A\", \"Q20A\", \"Q23A\", \"Q25A\", \"Q28A\", \"Q30A\", \"Q36A\", \"Q40A\", \"Q41A\"]\n",
    "stress_questions = [\"Q1A\", \"Q6A\", \"Q8A\", \"Q11A\", \"Q12A\", \"Q14A\", \"Q18A\", \"Q22A\", \"Q27A\", \"Q29A\", \"Q32A\", \"Q33A\", \"Q35A\", \"Q39A\"]\n",
    "\n",
    "words = [\"VCL1\", \"VCL2\", \"VCL3\", \"VCL4\",\"VCL5\", \"VCL7\", \"VCL8\", \"VCL10\", \"VCL11\", \"VCL13\", \"VCL14\", \"VCL15\", \"VCL16\"]"
   ]
  },
  {
   "cell_type": "code",
   "execution_count": 150,
   "metadata": {},
   "outputs": [],
   "source": [
    "data[\"depression_score\"] = data[depression_questions].sum(axis =1)\n",
    "data[\"anxiety_score\"] = data[anxiety_questions].sum(axis=1)\n",
    "data[\"stress_score\"] = data[stress_questions].sum(axis=1)\n",
    "\n",
    "data[\"extraversion\"] = data[\"TIPI1\"] - data[\"TIPI6\"]\n",
    "data[\"agreeableness\"] = data[\"TIPI7\"] - data[\"TIPI2\"]\n",
    "data[\"conscientiousness\"] = data[\"TIPI3\"] - data[\"TIPI8\"]\n",
    "data[\"emotional_stability\"] = data[\"TIPI9\"] - data[\"TIPI4\"]\n",
    "data[\"openness\"] = data[\"TIPI5\"] - data[\"TIPI10\"]"
   ]
  },
  {
   "cell_type": "code",
   "execution_count": 151,
   "metadata": {},
   "outputs": [
    {
     "data": {
      "text/html": [
       "<div>\n",
       "<style scoped>\n",
       "    .dataframe tbody tr th:only-of-type {\n",
       "        vertical-align: middle;\n",
       "    }\n",
       "\n",
       "    .dataframe tbody tr th {\n",
       "        vertical-align: top;\n",
       "    }\n",
       "\n",
       "    .dataframe thead th {\n",
       "        text-align: right;\n",
       "    }\n",
       "</style>\n",
       "<table border=\"1\" class=\"dataframe\">\n",
       "  <thead>\n",
       "    <tr style=\"text-align: right;\">\n",
       "      <th></th>\n",
       "      <th>Q1A</th>\n",
       "      <th>Q1I</th>\n",
       "      <th>Q1E</th>\n",
       "      <th>Q2A</th>\n",
       "      <th>Q2I</th>\n",
       "      <th>Q2E</th>\n",
       "      <th>Q3A</th>\n",
       "      <th>Q3I</th>\n",
       "      <th>Q3E</th>\n",
       "      <th>Q4A</th>\n",
       "      <th>...</th>\n",
       "      <th>familysize</th>\n",
       "      <th>major</th>\n",
       "      <th>depression_score</th>\n",
       "      <th>anxiety_score</th>\n",
       "      <th>stress_score</th>\n",
       "      <th>extraversion</th>\n",
       "      <th>agreeableness</th>\n",
       "      <th>conscientiousness</th>\n",
       "      <th>emotional_stability</th>\n",
       "      <th>openness</th>\n",
       "    </tr>\n",
       "  </thead>\n",
       "  <tbody>\n",
       "    <tr>\n",
       "      <th>0</th>\n",
       "      <td>4</td>\n",
       "      <td>28</td>\n",
       "      <td>3890</td>\n",
       "      <td>4</td>\n",
       "      <td>25</td>\n",
       "      <td>2122</td>\n",
       "      <td>2</td>\n",
       "      <td>16</td>\n",
       "      <td>1944</td>\n",
       "      <td>4</td>\n",
       "      <td>...</td>\n",
       "      <td>2</td>\n",
       "      <td>NaN</td>\n",
       "      <td>41</td>\n",
       "      <td>48</td>\n",
       "      <td>54</td>\n",
       "      <td>-6</td>\n",
       "      <td>2</td>\n",
       "      <td>2</td>\n",
       "      <td>-6</td>\n",
       "      <td>6</td>\n",
       "    </tr>\n",
       "    <tr>\n",
       "      <th>1</th>\n",
       "      <td>4</td>\n",
       "      <td>2</td>\n",
       "      <td>8118</td>\n",
       "      <td>1</td>\n",
       "      <td>36</td>\n",
       "      <td>2890</td>\n",
       "      <td>2</td>\n",
       "      <td>35</td>\n",
       "      <td>4777</td>\n",
       "      <td>3</td>\n",
       "      <td>...</td>\n",
       "      <td>4</td>\n",
       "      <td>NaN</td>\n",
       "      <td>38</td>\n",
       "      <td>31</td>\n",
       "      <td>41</td>\n",
       "      <td>2</td>\n",
       "      <td>2</td>\n",
       "      <td>-3</td>\n",
       "      <td>-6</td>\n",
       "      <td>0</td>\n",
       "    </tr>\n",
       "    <tr>\n",
       "      <th>2</th>\n",
       "      <td>3</td>\n",
       "      <td>7</td>\n",
       "      <td>5784</td>\n",
       "      <td>1</td>\n",
       "      <td>33</td>\n",
       "      <td>4373</td>\n",
       "      <td>4</td>\n",
       "      <td>41</td>\n",
       "      <td>3242</td>\n",
       "      <td>1</td>\n",
       "      <td>...</td>\n",
       "      <td>3</td>\n",
       "      <td>NaN</td>\n",
       "      <td>53</td>\n",
       "      <td>26</td>\n",
       "      <td>31</td>\n",
       "      <td>-4</td>\n",
       "      <td>0</td>\n",
       "      <td>-3</td>\n",
       "      <td>1</td>\n",
       "      <td>3</td>\n",
       "    </tr>\n",
       "    <tr>\n",
       "      <th>3</th>\n",
       "      <td>2</td>\n",
       "      <td>23</td>\n",
       "      <td>5081</td>\n",
       "      <td>3</td>\n",
       "      <td>11</td>\n",
       "      <td>6837</td>\n",
       "      <td>2</td>\n",
       "      <td>37</td>\n",
       "      <td>5521</td>\n",
       "      <td>1</td>\n",
       "      <td>...</td>\n",
       "      <td>5</td>\n",
       "      <td>biology</td>\n",
       "      <td>30</td>\n",
       "      <td>31</td>\n",
       "      <td>30</td>\n",
       "      <td>-3</td>\n",
       "      <td>5</td>\n",
       "      <td>6</td>\n",
       "      <td>2</td>\n",
       "      <td>5</td>\n",
       "    </tr>\n",
       "    <tr>\n",
       "      <th>4</th>\n",
       "      <td>2</td>\n",
       "      <td>36</td>\n",
       "      <td>3215</td>\n",
       "      <td>2</td>\n",
       "      <td>13</td>\n",
       "      <td>7731</td>\n",
       "      <td>3</td>\n",
       "      <td>5</td>\n",
       "      <td>4156</td>\n",
       "      <td>4</td>\n",
       "      <td>...</td>\n",
       "      <td>4</td>\n",
       "      <td>Psychology</td>\n",
       "      <td>46</td>\n",
       "      <td>54</td>\n",
       "      <td>43</td>\n",
       "      <td>-3</td>\n",
       "      <td>0</td>\n",
       "      <td>-3</td>\n",
       "      <td>-3</td>\n",
       "      <td>2</td>\n",
       "    </tr>\n",
       "    <tr>\n",
       "      <th>5</th>\n",
       "      <td>1</td>\n",
       "      <td>18</td>\n",
       "      <td>6116</td>\n",
       "      <td>1</td>\n",
       "      <td>28</td>\n",
       "      <td>3193</td>\n",
       "      <td>2</td>\n",
       "      <td>2</td>\n",
       "      <td>12542</td>\n",
       "      <td>1</td>\n",
       "      <td>...</td>\n",
       "      <td>4</td>\n",
       "      <td>NaN</td>\n",
       "      <td>27</td>\n",
       "      <td>20</td>\n",
       "      <td>26</td>\n",
       "      <td>-5</td>\n",
       "      <td>6</td>\n",
       "      <td>4</td>\n",
       "      <td>5</td>\n",
       "      <td>0</td>\n",
       "    </tr>\n",
       "    <tr>\n",
       "      <th>6</th>\n",
       "      <td>1</td>\n",
       "      <td>20</td>\n",
       "      <td>4325</td>\n",
       "      <td>1</td>\n",
       "      <td>34</td>\n",
       "      <td>4009</td>\n",
       "      <td>2</td>\n",
       "      <td>38</td>\n",
       "      <td>3604</td>\n",
       "      <td>3</td>\n",
       "      <td>...</td>\n",
       "      <td>4</td>\n",
       "      <td>Mechatronics engeenerieng</td>\n",
       "      <td>45</td>\n",
       "      <td>33</td>\n",
       "      <td>28</td>\n",
       "      <td>0</td>\n",
       "      <td>1</td>\n",
       "      <td>3</td>\n",
       "      <td>0</td>\n",
       "      <td>-2</td>\n",
       "    </tr>\n",
       "    <tr>\n",
       "      <th>7</th>\n",
       "      <td>1</td>\n",
       "      <td>34</td>\n",
       "      <td>4796</td>\n",
       "      <td>1</td>\n",
       "      <td>9</td>\n",
       "      <td>2618</td>\n",
       "      <td>1</td>\n",
       "      <td>39</td>\n",
       "      <td>5823</td>\n",
       "      <td>1</td>\n",
       "      <td>...</td>\n",
       "      <td>2</td>\n",
       "      <td>Music</td>\n",
       "      <td>18</td>\n",
       "      <td>18</td>\n",
       "      <td>20</td>\n",
       "      <td>5</td>\n",
       "      <td>0</td>\n",
       "      <td>1</td>\n",
       "      <td>0</td>\n",
       "      <td>1</td>\n",
       "    </tr>\n",
       "    <tr>\n",
       "      <th>8</th>\n",
       "      <td>4</td>\n",
       "      <td>4</td>\n",
       "      <td>3470</td>\n",
       "      <td>4</td>\n",
       "      <td>14</td>\n",
       "      <td>2139</td>\n",
       "      <td>3</td>\n",
       "      <td>1</td>\n",
       "      <td>11043</td>\n",
       "      <td>4</td>\n",
       "      <td>...</td>\n",
       "      <td>4</td>\n",
       "      <td>Psychology</td>\n",
       "      <td>49</td>\n",
       "      <td>53</td>\n",
       "      <td>47</td>\n",
       "      <td>-6</td>\n",
       "      <td>2</td>\n",
       "      <td>-2</td>\n",
       "      <td>-6</td>\n",
       "      <td>1</td>\n",
       "    </tr>\n",
       "    <tr>\n",
       "      <th>9</th>\n",
       "      <td>3</td>\n",
       "      <td>38</td>\n",
       "      <td>5187</td>\n",
       "      <td>2</td>\n",
       "      <td>28</td>\n",
       "      <td>2600</td>\n",
       "      <td>4</td>\n",
       "      <td>9</td>\n",
       "      <td>2015</td>\n",
       "      <td>1</td>\n",
       "      <td>...</td>\n",
       "      <td>3</td>\n",
       "      <td>computer programming</td>\n",
       "      <td>56</td>\n",
       "      <td>42</td>\n",
       "      <td>48</td>\n",
       "      <td>-6</td>\n",
       "      <td>-6</td>\n",
       "      <td>3</td>\n",
       "      <td>-6</td>\n",
       "      <td>-2</td>\n",
       "    </tr>\n",
       "  </tbody>\n",
       "</table>\n",
       "<p>10 rows × 180 columns</p>\n",
       "</div>"
      ],
      "text/plain": [
       "   Q1A  Q1I   Q1E  Q2A  Q2I   Q2E  Q3A  Q3I    Q3E  Q4A  ...  familysize  \\\n",
       "0    4   28  3890    4   25  2122    2   16   1944    4  ...           2   \n",
       "1    4    2  8118    1   36  2890    2   35   4777    3  ...           4   \n",
       "2    3    7  5784    1   33  4373    4   41   3242    1  ...           3   \n",
       "3    2   23  5081    3   11  6837    2   37   5521    1  ...           5   \n",
       "4    2   36  3215    2   13  7731    3    5   4156    4  ...           4   \n",
       "5    1   18  6116    1   28  3193    2    2  12542    1  ...           4   \n",
       "6    1   20  4325    1   34  4009    2   38   3604    3  ...           4   \n",
       "7    1   34  4796    1    9  2618    1   39   5823    1  ...           2   \n",
       "8    4    4  3470    4   14  2139    3    1  11043    4  ...           4   \n",
       "9    3   38  5187    2   28  2600    4    9   2015    1  ...           3   \n",
       "\n",
       "                       major  depression_score  anxiety_score  stress_score  \\\n",
       "0                        NaN                41             48            54   \n",
       "1                        NaN                38             31            41   \n",
       "2                        NaN                53             26            31   \n",
       "3                    biology                30             31            30   \n",
       "4                 Psychology                46             54            43   \n",
       "5                        NaN                27             20            26   \n",
       "6  Mechatronics engeenerieng                45             33            28   \n",
       "7                      Music                18             18            20   \n",
       "8                Psychology                 49             53            47   \n",
       "9       computer programming                56             42            48   \n",
       "\n",
       "   extraversion  agreeableness  conscientiousness  emotional_stability  \\\n",
       "0            -6              2                  2                   -6   \n",
       "1             2              2                 -3                   -6   \n",
       "2            -4              0                 -3                    1   \n",
       "3            -3              5                  6                    2   \n",
       "4            -3              0                 -3                   -3   \n",
       "5            -5              6                  4                    5   \n",
       "6             0              1                  3                    0   \n",
       "7             5              0                  1                    0   \n",
       "8            -6              2                 -2                   -6   \n",
       "9            -6             -6                  3                   -6   \n",
       "\n",
       "   openness  \n",
       "0         6  \n",
       "1         0  \n",
       "2         3  \n",
       "3         5  \n",
       "4         2  \n",
       "5         0  \n",
       "6        -2  \n",
       "7         1  \n",
       "8         1  \n",
       "9        -2  \n",
       "\n",
       "[10 rows x 180 columns]"
      ]
     },
     "execution_count": 151,
     "metadata": {},
     "output_type": "execute_result"
    }
   ],
   "source": [
    "data.head(10)"
   ]
  },
  {
   "cell_type": "code",
   "execution_count": 152,
   "metadata": {},
   "outputs": [],
   "source": [
    "def score(colname: str, data: pd.DataFrame) -> pd.DataFrame:\n",
    "    for index, i in enumerate(data[colname]):\n",
    "        if i <= 9:\n",
    "            data.loc[index, colname] = 1\n",
    "        elif 9 < i <= 13:\n",
    "            data.loc[index, colname] = 2\n",
    "        elif 13 < i <= 20:\n",
    "            data.loc[index, colname] = 3\n",
    "        elif 20 < i <= 27:\n",
    "            data.loc[index, colname] = 4\n",
    "        else:\n",
    "            data.loc[index, colname] = 5\n",
    "    return data[colname]"
   ]
  },
  {
   "cell_type": "code",
   "execution_count": 153,
   "metadata": {},
   "outputs": [
    {
     "data": {
      "text/plain": [
       "0        5\n",
       "1        5\n",
       "2        5\n",
       "3        5\n",
       "4        5\n",
       "        ..\n",
       "39770    5\n",
       "39771    5\n",
       "39772    3\n",
       "39773    5\n",
       "39774    5\n",
       "Name: stress_score, Length: 39775, dtype: int64"
      ]
     },
     "execution_count": 153,
     "metadata": {},
     "output_type": "execute_result"
    }
   ],
   "source": [
    "score(\"depression_score\", data)\n",
    "score(\"anxiety_score\", data)\n",
    "score(\"stress_score\", data)"
   ]
  },
  {
   "cell_type": "code",
   "execution_count": 154,
   "metadata": {},
   "outputs": [
    {
     "data": {
      "text/html": [
       "<div>\n",
       "<style scoped>\n",
       "    .dataframe tbody tr th:only-of-type {\n",
       "        vertical-align: middle;\n",
       "    }\n",
       "\n",
       "    .dataframe tbody tr th {\n",
       "        vertical-align: top;\n",
       "    }\n",
       "\n",
       "    .dataframe thead th {\n",
       "        text-align: right;\n",
       "    }\n",
       "</style>\n",
       "<table border=\"1\" class=\"dataframe\">\n",
       "  <thead>\n",
       "    <tr style=\"text-align: right;\">\n",
       "      <th></th>\n",
       "      <th>Q1A</th>\n",
       "      <th>Q1I</th>\n",
       "      <th>Q1E</th>\n",
       "      <th>Q2A</th>\n",
       "      <th>Q2I</th>\n",
       "      <th>Q2E</th>\n",
       "      <th>Q3A</th>\n",
       "      <th>Q3I</th>\n",
       "      <th>Q3E</th>\n",
       "      <th>Q4A</th>\n",
       "      <th>...</th>\n",
       "      <th>familysize</th>\n",
       "      <th>major</th>\n",
       "      <th>depression_score</th>\n",
       "      <th>anxiety_score</th>\n",
       "      <th>stress_score</th>\n",
       "      <th>extraversion</th>\n",
       "      <th>agreeableness</th>\n",
       "      <th>conscientiousness</th>\n",
       "      <th>emotional_stability</th>\n",
       "      <th>openness</th>\n",
       "    </tr>\n",
       "  </thead>\n",
       "  <tbody>\n",
       "    <tr>\n",
       "      <th>0</th>\n",
       "      <td>4</td>\n",
       "      <td>28</td>\n",
       "      <td>3890</td>\n",
       "      <td>4</td>\n",
       "      <td>25</td>\n",
       "      <td>2122</td>\n",
       "      <td>2</td>\n",
       "      <td>16</td>\n",
       "      <td>1944</td>\n",
       "      <td>4</td>\n",
       "      <td>...</td>\n",
       "      <td>2</td>\n",
       "      <td>NaN</td>\n",
       "      <td>5</td>\n",
       "      <td>5</td>\n",
       "      <td>5</td>\n",
       "      <td>-6</td>\n",
       "      <td>2</td>\n",
       "      <td>2</td>\n",
       "      <td>-6</td>\n",
       "      <td>6</td>\n",
       "    </tr>\n",
       "    <tr>\n",
       "      <th>1</th>\n",
       "      <td>4</td>\n",
       "      <td>2</td>\n",
       "      <td>8118</td>\n",
       "      <td>1</td>\n",
       "      <td>36</td>\n",
       "      <td>2890</td>\n",
       "      <td>2</td>\n",
       "      <td>35</td>\n",
       "      <td>4777</td>\n",
       "      <td>3</td>\n",
       "      <td>...</td>\n",
       "      <td>4</td>\n",
       "      <td>NaN</td>\n",
       "      <td>5</td>\n",
       "      <td>5</td>\n",
       "      <td>5</td>\n",
       "      <td>2</td>\n",
       "      <td>2</td>\n",
       "      <td>-3</td>\n",
       "      <td>-6</td>\n",
       "      <td>0</td>\n",
       "    </tr>\n",
       "    <tr>\n",
       "      <th>2</th>\n",
       "      <td>3</td>\n",
       "      <td>7</td>\n",
       "      <td>5784</td>\n",
       "      <td>1</td>\n",
       "      <td>33</td>\n",
       "      <td>4373</td>\n",
       "      <td>4</td>\n",
       "      <td>41</td>\n",
       "      <td>3242</td>\n",
       "      <td>1</td>\n",
       "      <td>...</td>\n",
       "      <td>3</td>\n",
       "      <td>NaN</td>\n",
       "      <td>5</td>\n",
       "      <td>4</td>\n",
       "      <td>5</td>\n",
       "      <td>-4</td>\n",
       "      <td>0</td>\n",
       "      <td>-3</td>\n",
       "      <td>1</td>\n",
       "      <td>3</td>\n",
       "    </tr>\n",
       "    <tr>\n",
       "      <th>3</th>\n",
       "      <td>2</td>\n",
       "      <td>23</td>\n",
       "      <td>5081</td>\n",
       "      <td>3</td>\n",
       "      <td>11</td>\n",
       "      <td>6837</td>\n",
       "      <td>2</td>\n",
       "      <td>37</td>\n",
       "      <td>5521</td>\n",
       "      <td>1</td>\n",
       "      <td>...</td>\n",
       "      <td>5</td>\n",
       "      <td>biology</td>\n",
       "      <td>5</td>\n",
       "      <td>5</td>\n",
       "      <td>5</td>\n",
       "      <td>-3</td>\n",
       "      <td>5</td>\n",
       "      <td>6</td>\n",
       "      <td>2</td>\n",
       "      <td>5</td>\n",
       "    </tr>\n",
       "    <tr>\n",
       "      <th>4</th>\n",
       "      <td>2</td>\n",
       "      <td>36</td>\n",
       "      <td>3215</td>\n",
       "      <td>2</td>\n",
       "      <td>13</td>\n",
       "      <td>7731</td>\n",
       "      <td>3</td>\n",
       "      <td>5</td>\n",
       "      <td>4156</td>\n",
       "      <td>4</td>\n",
       "      <td>...</td>\n",
       "      <td>4</td>\n",
       "      <td>Psychology</td>\n",
       "      <td>5</td>\n",
       "      <td>5</td>\n",
       "      <td>5</td>\n",
       "      <td>-3</td>\n",
       "      <td>0</td>\n",
       "      <td>-3</td>\n",
       "      <td>-3</td>\n",
       "      <td>2</td>\n",
       "    </tr>\n",
       "  </tbody>\n",
       "</table>\n",
       "<p>5 rows × 180 columns</p>\n",
       "</div>"
      ],
      "text/plain": [
       "   Q1A  Q1I   Q1E  Q2A  Q2I   Q2E  Q3A  Q3I   Q3E  Q4A  ...  familysize  \\\n",
       "0    4   28  3890    4   25  2122    2   16  1944    4  ...           2   \n",
       "1    4    2  8118    1   36  2890    2   35  4777    3  ...           4   \n",
       "2    3    7  5784    1   33  4373    4   41  3242    1  ...           3   \n",
       "3    2   23  5081    3   11  6837    2   37  5521    1  ...           5   \n",
       "4    2   36  3215    2   13  7731    3    5  4156    4  ...           4   \n",
       "\n",
       "        major  depression_score  anxiety_score  stress_score  extraversion  \\\n",
       "0         NaN                 5              5             5            -6   \n",
       "1         NaN                 5              5             5             2   \n",
       "2         NaN                 5              4             5            -4   \n",
       "3     biology                 5              5             5            -3   \n",
       "4  Psychology                 5              5             5            -3   \n",
       "\n",
       "   agreeableness  conscientiousness  emotional_stability  openness  \n",
       "0              2                  2                   -6         6  \n",
       "1              2                 -3                   -6         0  \n",
       "2              0                 -3                    1         3  \n",
       "3              5                  6                    2         5  \n",
       "4              0                 -3                   -3         2  \n",
       "\n",
       "[5 rows x 180 columns]"
      ]
     },
     "execution_count": 154,
     "metadata": {},
     "output_type": "execute_result"
    }
   ],
   "source": [
    "data.head()"
   ]
  },
  {
   "cell_type": "code",
   "execution_count": 155,
   "metadata": {},
   "outputs": [
    {
     "data": {
      "image/png": "[encoded data removed]",
      "text/plain": [
       "<Figure size 1000x500 with 3 Axes>"
      ]
     },
     "metadata": {},
     "output_type": "display_data"
    }
   ],
   "source": [
    "fig, axes = plt.subplots(nrows=1, ncols=3, figsize=(10, 5))\n",
    "axes = axes.ravel()\n",
    "sns.countplot(x = data[\"depression_score\"],ax = axes[0])\n",
    "axes[0].set_title(\"depression\")\n",
    "sns.countplot(x = data[\"anxiety_score\"],ax = axes[1])\n",
    "axes[1].set_title(\"anxiety\")\n",
    "sns.countplot(x = data[\"stress_score\"],ax = axes[2])\n",
    "axes[2].set_title(\"stress\")\n",
    "plt.tight_layout()"
   ]
  },
  {
   "cell_type": "code",
   "execution_count": 156,
   "metadata": {},
   "outputs": [
    {
     "data": {
      "text/plain": [
       "([<matplotlib.axis.XTick at 0x314d2d210>,\n",
       "  <matplotlib.axis.XTick at 0x163443950>,\n",
       "  <matplotlib.axis.XTick at 0x164373d10>,\n",
       "  <matplotlib.axis.XTick at 0x164365d90>],\n",
       " [Text(0, 0, 'LessthanHigh'),\n",
       "  Text(1, 0, 'HighSchool'),\n",
       "  Text(2, 0, 'University'),\n",
       "  Text(3, 0, 'Graduate')])"
      ]
     },
     "execution_count": 156,
     "metadata": {},
     "output_type": "execute_result"
    },
    {
     "data": {
      "image/png": "[encoded data removed]",
      "text/plain": [
       "<Figure size 640x480 with 1 Axes>"
      ]
     },
     "metadata": {},
     "output_type": "display_data"
    }
   ],
   "source": [
    "sns.barplot(x=\"education\", y=\"depression_score\", data=data[data[\"education\"] != 0])\n",
    "plt.xticks(ticks = range(len(data[data[\"education\"] != 0][\"education\"].unique())), labels = [\"LessthanHigh\", \"HighSchool\", \"University\", \"Graduate\"])"
   ]
  },
  {
   "cell_type": "code",
   "execution_count": 157,
   "metadata": {},
   "outputs": [
    {
     "data": {
      "text/plain": [
       "([<matplotlib.axis.XTick at 0x176e9d290>,\n",
       "  <matplotlib.axis.XTick at 0x176eb9050>,\n",
       "  <matplotlib.axis.XTick at 0x1637347d0>],\n",
       " [Text(0, 0, 'Single'), Text(1, 0, 'Married'), Text(2, 0, 'Divorced')])"
      ]
     },
     "execution_count": 157,
     "metadata": {},
     "output_type": "execute_result"
    },
    {
     "data": {
      "image/png": "[encoded data removed]",
      "text/plain": [
       "<Figure size 640x480 with 1 Axes>"
      ]
     },
     "metadata": {},
     "output_type": "display_data"
    }
   ],
   "source": [
    "sns.barplot(x=\"married\", y=\"depression_score\", data=data[data[\"married\"] != 0])\n",
    "plt.xticks(ticks = range(len(data[data[\"married\"] != 0][\"married\"].unique())), labels = [\"Single\", \"Married\", \"Divorced\"])"
   ]
  },
  {
   "cell_type": "code",
   "execution_count": 158,
   "metadata": {},
   "outputs": [
    {
     "data": {
      "text/plain": [
       "<Axes: xlabel='religion', ylabel='depression_score'>"
      ]
     },
     "execution_count": 158,
     "metadata": {},
     "output_type": "execute_result"
    },
    {
     "data": {
      "image/png": "[encoded data removed]",
      "text/plain": [
       "<Figure size 640x480 with 1 Axes>"
      ]
     },
     "metadata": {},
     "output_type": "display_data"
    }
   ],
   "source": [
    "sns.barplot(data = data[data[\"religion\"] != 0], x = \"religion\", y = \"depression_score\", color = \"grey\")"
   ]
  },
  {
   "cell_type": "code",
   "execution_count": 159,
   "metadata": {},
   "outputs": [
    {
     "data": {
      "text/plain": [
       "([<matplotlib.axis.XTick at 0x16370a3d0>,\n",
       "  <matplotlib.axis.XTick at 0x176dee810>,\n",
       "  <matplotlib.axis.XTick at 0x16449b950>,\n",
       "  <matplotlib.axis.XTick at 0x176e1f110>,\n",
       "  <matplotlib.axis.XTick at 0x163907450>],\n",
       " [Text(0, 0, 'Hetero'),\n",
       "  Text(1, 0, 'Bi'),\n",
       "  Text(2, 0, 'Homo'),\n",
       "  Text(3, 0, 'A'),\n",
       "  Text(4, 0, 'Other')])"
      ]
     },
     "execution_count": 159,
     "metadata": {},
     "output_type": "execute_result"
    },
    {
     "data": {
      "image/png": "[encoded data removed]",
      "text/plain": [
       "<Figure size 640x480 with 1 Axes>"
      ]
     },
     "metadata": {},
     "output_type": "display_data"
    }
   ],
   "source": [
    "sns.barplot(data = data[data[\"orientation\"] != 0], x = \"orientation\", y= \"depression_score\", color = \"grey\")\n",
    "plt.xticks(ticks = range(len(data[data[\"orientation\"] != 0][\"orientation\"].unique())), labels = [\"Hetero\", \"Bi\", \"Homo\", \"A\", \"Other\"])"
   ]
  },
  {
   "cell_type": "code",
   "execution_count": 160,
   "metadata": {},
   "outputs": [],
   "source": [
    "categories = []\n",
    "for label, item in data.items():\n",
    "    if pd.api.types.is_object_dtype(item):\n",
    "        categories.append(label)"
   ]
  },
  {
   "cell_type": "code",
   "execution_count": 161,
   "metadata": {},
   "outputs": [
    {
     "data": {
      "text/plain": [
       "['country', 'major']"
      ]
     },
     "execution_count": 161,
     "metadata": {},
     "output_type": "execute_result"
    }
   ],
   "source": [
    "categories"
   ]
  },
  {
   "cell_type": "code",
   "execution_count": 162,
   "metadata": {},
   "outputs": [
    {
     "name": "stderr",
     "output_type": "stream",
     "text": [
      "/var/folders/pd/hd4ggfd92s96hw2m79cprk4h0000gn/T/ipykernel_9570/3480842869.py:3: DeprecationWarning: is_int64_dtype is deprecated and will be removed in a future version. Use dtype == np.int64 instead.\n",
      "  if pd.api.types.is_int64_dtype(item):\n"
     ]
    }
   ],
   "source": [
    "numericals = []\n",
    "for label, item in data.items():\n",
    "    if pd.api.types.is_int64_dtype(item):\n",
    "        numericals.append(label)"
   ]
  },
  {
   "cell_type": "code",
   "execution_count": 163,
   "metadata": {},
   "outputs": [
    {
     "data": {
      "text/plain": [
       "178"
      ]
     },
     "execution_count": 163,
     "metadata": {},
     "output_type": "execute_result"
    }
   ],
   "source": [
    "len(numericals)"
   ]
  },
  {
   "cell_type": "code",
   "execution_count": 164,
   "metadata": {},
   "outputs": [],
   "source": [
    "dropped_questions = []\n",
    "for i in data.columns:\n",
    "    if i.startswith(\"Q\") and (i.endswith(\"I\") or i.endswith(\"E\")):\n",
    "        dropped_questions.append(i)\n",
    "\n",
    "data = data.drop(dropped_questions, axis=1)"
   ]
  },
  {
   "cell_type": "code",
   "execution_count": 165,
   "metadata": {},
   "outputs": [],
   "source": [
    "data_copy = data.copy()"
   ]
  },
  {
   "cell_type": "code",
   "execution_count": 166,
   "metadata": {},
   "outputs": [
    {
     "data": {
      "text/plain": [
       "Index(['Q1A', 'Q2A', 'Q3A', 'Q4A', 'Q5A', 'Q6A', 'Q7A', 'Q8A', 'Q9A', 'Q10A',\n",
       "       'Q11A', 'Q12A', 'Q13A', 'Q14A', 'Q15A', 'Q16A', 'Q17A', 'Q18A', 'Q19A',\n",
       "       'Q20A', 'Q21A', 'Q22A', 'Q23A', 'Q24A', 'Q25A', 'Q26A', 'Q27A', 'Q28A',\n",
       "       'Q29A', 'Q30A', 'Q31A', 'Q32A', 'Q33A', 'Q34A', 'Q35A', 'Q36A', 'Q37A',\n",
       "       'Q38A', 'Q39A', 'Q40A', 'Q41A', 'Q42A', 'country', 'source',\n",
       "       'introelapse', 'testelapse', 'surveyelapse', 'TIPI1', 'TIPI2', 'TIPI3',\n",
       "       'TIPI4', 'TIPI5', 'TIPI6', 'TIPI7', 'TIPI8', 'TIPI9', 'TIPI10', 'VCL1',\n",
       "       'VCL2', 'VCL3', 'VCL4', 'VCL5', 'VCL6', 'VCL7', 'VCL8', 'VCL9', 'VCL10',\n",
       "       'VCL11', 'VCL12', 'VCL13', 'VCL14', 'VCL15', 'VCL16', 'education',\n",
       "       'urban', 'gender', 'engnat', 'age', 'screensize',\n",
       "       'uniquenetworklocation', 'hand', 'religion', 'orientation', 'race',\n",
       "       'voted', 'married', 'familysize', 'major', 'depression_score',\n",
       "       'anxiety_score', 'stress_score', 'extraversion', 'agreeableness',\n",
       "       'conscientiousness', 'emotional_stability', 'openness'],\n",
       "      dtype='object')"
      ]
     },
     "execution_count": 166,
     "metadata": {},
     "output_type": "execute_result"
    }
   ],
   "source": [
    "data_copy.columns"
   ]
  },
  {
   "cell_type": "code",
   "execution_count": 167,
   "metadata": {},
   "outputs": [],
   "source": [
    "data_copy = pd.get_dummies(data_copy, columns=categories)"
   ]
  },
  {
   "cell_type": "code",
   "execution_count": 168,
   "metadata": {},
   "outputs": [],
   "source": [
    "scores = [\"depression_score\", \"anxiety_score\", \"stress_score\"]"
   ]
  },
  {
   "cell_type": "code",
   "execution_count": 169,
   "metadata": {},
   "outputs": [],
   "source": [
    "from sklearn.model_selection import train_test_split\n",
    "\n",
    "train_data, test_data = train_test_split(data_copy, test_size=0.2)"
   ]
  },
  {
   "cell_type": "code",
   "execution_count": 170,
   "metadata": {},
   "outputs": [],
   "source": [
    "train_data_scores = train_data[scores]"
   ]
  },
  {
   "cell_type": "code",
   "execution_count": 171,
   "metadata": {},
   "outputs": [
    {
     "data": {
      "text/html": [
       "<div>\n",
       "<style scoped>\n",
       "    .dataframe tbody tr th:only-of-type {\n",
       "        vertical-align: middle;\n",
       "    }\n",
       "\n",
       "    .dataframe tbody tr th {\n",
       "        vertical-align: top;\n",
       "    }\n",
       "\n",
       "    .dataframe thead th {\n",
       "        text-align: right;\n",
       "    }\n",
       "</style>\n",
       "<table border=\"1\" class=\"dataframe\">\n",
       "  <thead>\n",
       "    <tr style=\"text-align: right;\">\n",
       "      <th></th>\n",
       "      <th>depression_score</th>\n",
       "      <th>anxiety_score</th>\n",
       "      <th>stress_score</th>\n",
       "    </tr>\n",
       "  </thead>\n",
       "  <tbody>\n",
       "    <tr>\n",
       "      <th>34770</th>\n",
       "      <td>4</td>\n",
       "      <td>3</td>\n",
       "      <td>3</td>\n",
       "    </tr>\n",
       "    <tr>\n",
       "      <th>14394</th>\n",
       "      <td>3</td>\n",
       "      <td>3</td>\n",
       "      <td>3</td>\n",
       "    </tr>\n",
       "    <tr>\n",
       "      <th>31398</th>\n",
       "      <td>5</td>\n",
       "      <td>5</td>\n",
       "      <td>5</td>\n",
       "    </tr>\n",
       "    <tr>\n",
       "      <th>7042</th>\n",
       "      <td>5</td>\n",
       "      <td>4</td>\n",
       "      <td>5</td>\n",
       "    </tr>\n",
       "    <tr>\n",
       "      <th>5655</th>\n",
       "      <td>5</td>\n",
       "      <td>5</td>\n",
       "      <td>5</td>\n",
       "    </tr>\n",
       "    <tr>\n",
       "      <th>...</th>\n",
       "      <td>...</td>\n",
       "      <td>...</td>\n",
       "      <td>...</td>\n",
       "    </tr>\n",
       "    <tr>\n",
       "      <th>36843</th>\n",
       "      <td>3</td>\n",
       "      <td>3</td>\n",
       "      <td>3</td>\n",
       "    </tr>\n",
       "    <tr>\n",
       "      <th>2945</th>\n",
       "      <td>5</td>\n",
       "      <td>5</td>\n",
       "      <td>5</td>\n",
       "    </tr>\n",
       "    <tr>\n",
       "      <th>37937</th>\n",
       "      <td>5</td>\n",
       "      <td>5</td>\n",
       "      <td>5</td>\n",
       "    </tr>\n",
       "    <tr>\n",
       "      <th>2871</th>\n",
       "      <td>3</td>\n",
       "      <td>4</td>\n",
       "      <td>4</td>\n",
       "    </tr>\n",
       "    <tr>\n",
       "      <th>25299</th>\n",
       "      <td>5</td>\n",
       "      <td>3</td>\n",
       "      <td>5</td>\n",
       "    </tr>\n",
       "  </tbody>\n",
       "</table>\n",
       "<p>31820 rows × 3 columns</p>\n",
       "</div>"
      ],
      "text/plain": [
       "       depression_score  anxiety_score  stress_score\n",
       "34770                 4              3             3\n",
       "14394                 3              3             3\n",
       "31398                 5              5             5\n",
       "7042                  5              4             5\n",
       "5655                  5              5             5\n",
       "...                 ...            ...           ...\n",
       "36843                 3              3             3\n",
       "2945                  5              5             5\n",
       "37937                 5              5             5\n",
       "2871                  3              4             4\n",
       "25299                 5              3             5\n",
       "\n",
       "[31820 rows x 3 columns]"
      ]
     },
     "execution_count": 171,
     "metadata": {},
     "output_type": "execute_result"
    }
   ],
   "source": [
    "train_data_scores"
   ]
  },
  {
   "cell_type": "code",
   "execution_count": 172,
   "metadata": {},
   "outputs": [],
   "source": [
    "X = train_data.drop(scores, axis=1)"
   ]
  },
  {
   "cell_type": "code",
   "execution_count": 173,
   "metadata": {},
   "outputs": [
    {
     "name": "stdout",
     "output_type": "stream",
     "text": [
      "<class 'pandas.core.frame.DataFrame'>\n",
      "Index: 31820 entries, 34770 to 25299\n",
      "Columns: 5544 entries, Q1A to major_zoology\n",
      "dtypes: bool(5453), int64(91)\n",
      "memory usage: 187.8 MB\n"
     ]
    }
   ],
   "source": [
    "X.info()"
   ]
  },
  {
   "cell_type": "code",
   "execution_count": 174,
   "metadata": {},
   "outputs": [],
   "source": [
    "depression_y = train_data_scores[\"depression_score\"]\n",
    "anxiety_y = train_data_scores[\"anxiety_score\"]\n",
    "stress_y = train_data_scores[\"stress_score\"]"
   ]
  },
  {
   "cell_type": "markdown",
   "metadata": {},
   "source": [
    "## For Predicting Depression"
   ]
  },
  {
   "cell_type": "code",
   "execution_count": 175,
   "metadata": {},
   "outputs": [
    {
     "data": {
      "text/plain": [
       "34770    4\n",
       "14394    3\n",
       "31398    5\n",
       "7042     5\n",
       "5655     5\n",
       "        ..\n",
       "36843    3\n",
       "2945     5\n",
       "37937    5\n",
       "2871     3\n",
       "25299    5\n",
       "Name: depression_score, Length: 31820, dtype: int64"
      ]
     },
     "execution_count": 175,
     "metadata": {},
     "output_type": "execute_result"
    }
   ],
   "source": [
    "X\n",
    "depression_y"
   ]
  },
  {
   "cell_type": "code",
   "execution_count": 176,
   "metadata": {},
   "outputs": [],
   "source": [
    "from sklearn.model_selection import train_test_split\n",
    "\n",
    "X_train, X_test, depression_y_train, depression_y_test = train_test_split(X, depression_y, test_size=0.2, random_state=42)"
   ]
  },
  {
   "cell_type": "code",
   "execution_count": 177,
   "metadata": {},
   "outputs": [
    {
     "data": {
      "text/plain": [
       "0.8719358893777498"
      ]
     },
     "execution_count": 177,
     "metadata": {},
     "output_type": "execute_result"
    }
   ],
   "source": [
    "from sklearn.svm import LinearSVC\n",
    "\n",
    "clf = LinearSVC()\n",
    "\n",
    "clf.fit(X_train, depression_y_train)\n",
    "clf.score(X_test, depression_y_test)"
   ]
  },
  {
   "cell_type": "code",
   "execution_count": 180,
   "metadata": {},
   "outputs": [
    {
     "data": {
      "text/plain": [
       "array([3, 3, 5, 3, 3, 5, 5, 5, 3, 5])"
      ]
     },
     "execution_count": 180,
     "metadata": {},
     "output_type": "execute_result"
    }
   ],
   "source": [
    "depression_preds = clf.predict(X_test)\n",
    "depression_preds[:10]"
   ]
  },
  {
   "cell_type": "code",
   "execution_count": 181,
   "metadata": {},
   "outputs": [],
   "source": [
    "from sklearn.metrics import confusion_matrix, classification_report\n",
    "\n",
    "conf = confusion_matrix(depression_preds, depression_y_test)"
   ]
  },
  {
   "cell_type": "code",
   "execution_count": 184,
   "metadata": {},
   "outputs": [
    {
     "data": {
      "image/png": "[encoded data removed]",
      "text/plain": [
       "<Figure size 600x500 with 2 Axes>"
      ]
     },
     "metadata": {},
     "output_type": "display_data"
    }
   ],
   "source": [
    "plt.figure(figsize=(6, 5))\n",
    "sns.heatmap(conf, annot=True, fmt='d', cmap='Blues', xticklabels=[3,4,5], yticklabels=[3,4,5])\n",
    "plt.xlabel(\"Predicted Label\")\n",
    "plt.ylabel(\"True Label\")\n",
    "plt.title(\"Confusion Matrix Heatmap\")\n",
    "plt.show()"
   ]
  },
  {
   "cell_type": "code",
   "execution_count": 187,
   "metadata": {},
   "outputs": [
    {
     "name": "stdout",
     "output_type": "stream",
     "text": [
      "              precision    recall  f1-score   support\n",
      "\n",
      "           3       0.96      0.78      0.86      1143\n",
      "           4       0.29      0.90      0.44       346\n",
      "           5       1.00      0.89      0.94      4875\n",
      "\n",
      "    accuracy                           0.87      6364\n",
      "   macro avg       0.75      0.86      0.75      6364\n",
      "weighted avg       0.95      0.87      0.90      6364\n",
      "\n"
     ]
    }
   ],
   "source": [
    "print(classification_report(depression_preds, depression_y_test))"
   ]
  },
  {
   "cell_type": "code",
   "execution_count": 195,
   "metadata": {},
   "outputs": [
    {
     "data": {
      "image/png": "[encoded data removed]",
      "text/plain": [
       "<Figure size 600x500 with 2 Axes>"
      ]
     },
     "metadata": {},
     "output_type": "display_data"
    },
    {
     "data": {
      "image/png": "[encoded data removed]",
      "text/plain": [
       "<Figure size 600x500 with 2 Axes>"
      ]
     },
     "metadata": {},
     "output_type": "display_data"
    },
    {
     "data": {
      "image/png": "[encoded data removed]",
      "text/plain": [
       "<Figure size 600x500 with 2 Axes>"
      ]
     },
     "metadata": {},
     "output_type": "display_data"
    },
    {
     "data": {
      "image/png": "[encoded data removed]",
      "text/plain": [
       "<Figure size 600x500 with 2 Axes>"
      ]
     },
     "metadata": {},
     "output_type": "display_data"
    }
   ],
   "source": [
    "from sklearn.svm import LinearSVC\n",
    "from sklearn.ensemble import RandomForestClassifier\n",
    "from sklearn.naive_bayes import GaussianNB\n",
    "from sklearn.neighbors import KNeighborsClassifier\n",
    "\n",
    "\n",
    "models = {\"Linear SVC\": LinearSVC(), \"Random Forest\": RandomForestClassifier(), \"Naive Bayes\": GaussianNB(), \"KNN\": KNeighborsClassifier()}\n",
    "model_scores = {}\n",
    "\n",
    "for name, model in  models.items():\n",
    "    model.fit(X_train, depression_y_train)\n",
    "    b = model.score(X_test, depression_y_test)\n",
    "    model_scores[name] = b\n",
    "    a = model.predict(X_test)\n",
    "    conf = confusion_matrix(a, depression_y_test)\n",
    "    plt.figure(figsize=(6, 5))\n",
    "    sns.heatmap(conf, annot=True, fmt='d', cmap='Blues', xticklabels=[3,4,5], yticklabels=[3,4,5])\n",
    "    plt.xlabel(\"Predicted Label\")\n",
    "    plt.ylabel(\"True Label\")\n",
    "    plt.title(f\"Confusion Matrix Heatmap for {name}\")\n",
    "    plt.show()"
   ]
  },
  {
   "cell_type": "code",
   "execution_count": 196,
   "metadata": {},
   "outputs": [
    {
     "data": {
      "text/plain": [
       "{'Linear SVC': 0.8719358893777498,\n",
       " 'Random Forest': 0.9109050911376493,\n",
       " 'Naive Bayes': 0.1494343180389692,\n",
       " 'KNN': 0.688874921433061}"
      ]
     },
     "execution_count": 196,
     "metadata": {},
     "output_type": "execute_result"
    }
   ],
   "source": [
    "model_scores"
   ]
  },
  {
   "cell_type": "code",
   "execution_count": null,
   "metadata": {},
   "outputs": [],
   "source": []
  }
 ],
 "metadata": {
  "kernelspec": {
   "display_name": ".conda",
   "language": "python",
   "name": "python3"
  },
  "language_info": {
   "codemirror_mode": {
    "name": "ipython",
    "version": 3
   },
   "file_extension": ".py",
   "mimetype": "text/x-python",
   "name": "python",
   "nbconvert_exporter": "python",
   "pygments_lexer": "ipython3",
   "version": "3.11.11"
  }
 },
 "nbformat": 4,
 "nbformat_minor": 2
}
